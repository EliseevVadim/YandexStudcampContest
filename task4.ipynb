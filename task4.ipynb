{
 "cells": [
  {
   "cell_type": "code",
   "execution_count": 1,
   "metadata": {
    "_cell_guid": "b1076dfc-b9ad-4769-8c92-a6c4dae69d19",
    "_uuid": "8f2839f25d086af736a60e9eeb907d3b93b6e0e5",
    "execution": {
     "iopub.execute_input": "2024-02-22T16:43:01.667439Z",
     "iopub.status.busy": "2024-02-22T16:43:01.666659Z",
     "iopub.status.idle": "2024-02-22T16:43:03.195487Z",
     "shell.execute_reply": "2024-02-22T16:43:03.194162Z",
     "shell.execute_reply.started": "2024-02-22T16:43:01.667406Z"
    }
   },
   "outputs": [],
   "source": [
    "import Levenshtein\n",
    "import pandas as pd"
   ]
  },
  {
   "cell_type": "code",
   "execution_count": 2,
   "metadata": {
    "execution": {
     "iopub.execute_input": "2024-02-22T16:43:08.838082Z",
     "iopub.status.busy": "2024-02-22T16:43:08.837534Z",
     "iopub.status.idle": "2024-02-22T16:43:08.843266Z",
     "shell.execute_reply": "2024-02-22T16:43:08.842180Z",
     "shell.execute_reply.started": "2024-02-22T16:43:08.838048Z"
    }
   },
   "outputs": [],
   "source": [
    "data_path = '/data/task4'"
   ]
  },
  {
   "cell_type": "code",
   "execution_count": 3,
   "metadata": {
    "execution": {
     "iopub.execute_input": "2024-02-22T16:43:10.964684Z",
     "iopub.status.busy": "2024-02-22T16:43:10.964266Z",
     "iopub.status.idle": "2024-02-22T16:43:11.007542Z",
     "shell.execute_reply": "2024-02-22T16:43:11.006298Z",
     "shell.execute_reply.started": "2024-02-22T16:43:10.964651Z"
    }
   },
   "outputs": [],
   "source": [
    "with open(f\"{data_path}/dict.txt\", encoding=\"utf8\") as f:\n",
    "    words = f.readlines()"
   ]
  },
  {
   "cell_type": "code",
   "execution_count": 4,
   "metadata": {
    "execution": {
     "iopub.execute_input": "2024-02-22T16:43:13.436134Z",
     "iopub.status.busy": "2024-02-22T16:43:13.435701Z",
     "iopub.status.idle": "2024-02-22T16:43:13.460186Z",
     "shell.execute_reply": "2024-02-22T16:43:13.458844Z",
     "shell.execute_reply.started": "2024-02-22T16:43:13.436099Z"
    }
   },
   "outputs": [],
   "source": [
    "words = [word.rstrip('\\n') for word in words]"
   ]
  },
  {
   "cell_type": "code",
   "execution_count": 5,
   "metadata": {
    "execution": {
     "iopub.execute_input": "2024-02-22T16:43:15.613628Z",
     "iopub.status.busy": "2024-02-22T16:43:15.612979Z",
     "iopub.status.idle": "2024-02-22T16:43:15.621354Z",
     "shell.execute_reply": "2024-02-22T16:43:15.620282Z",
     "shell.execute_reply.started": "2024-02-22T16:43:15.613596Z"
    }
   },
   "outputs": [
    {
     "data": {
      "text/plain": [
       "62027"
      ]
     },
     "execution_count": 5,
     "metadata": {},
     "output_type": "execute_result"
    }
   ],
   "source": [
    "len(words)"
   ]
  },
  {
   "cell_type": "code",
   "execution_count": 7,
   "metadata": {
    "execution": {
     "iopub.execute_input": "2024-02-22T16:43:17.895330Z",
     "iopub.status.busy": "2024-02-22T16:43:17.894940Z",
     "iopub.status.idle": "2024-02-22T16:43:17.903242Z",
     "shell.execute_reply": "2024-02-22T16:43:17.901989Z",
     "shell.execute_reply.started": "2024-02-22T16:43:17.895302Z"
    }
   },
   "outputs": [
    {
     "data": {
      "text/plain": [
       "['абажур',\n",
       " 'абажурчик',\n",
       " 'абазин',\n",
       " 'абазинец',\n",
       " 'абазинцы',\n",
       " 'абазинка',\n",
       " 'абазия',\n",
       " 'абандон',\n",
       " 'аббат',\n",
       " 'аббатиса']"
      ]
     },
     "execution_count": 7,
     "metadata": {},
     "output_type": "execute_result"
    }
   ],
   "source": [
    "words[:10]"
   ]
  },
  {
   "cell_type": "code",
   "execution_count": 8,
   "metadata": {
    "execution": {
     "iopub.execute_input": "2024-02-22T16:43:20.134588Z",
     "iopub.status.busy": "2024-02-22T16:43:20.134068Z",
     "iopub.status.idle": "2024-02-22T16:43:20.166195Z",
     "shell.execute_reply": "2024-02-22T16:43:20.164756Z",
     "shell.execute_reply.started": "2024-02-22T16:43:20.134546Z"
    }
   },
   "outputs": [
    {
     "data": {
      "text/html": [
       "<div>\n",
       "<style scoped>\n",
       "    .dataframe tbody tr th:only-of-type {\n",
       "        vertical-align: middle;\n",
       "    }\n",
       "\n",
       "    .dataframe tbody tr th {\n",
       "        vertical-align: top;\n",
       "    }\n",
       "\n",
       "    .dataframe thead th {\n",
       "        text-align: right;\n",
       "    }\n",
       "</style>\n",
       "<table border=\"1\" class=\"dataframe\">\n",
       "  <thead>\n",
       "    <tr style=\"text-align: right;\">\n",
       "      <th></th>\n",
       "      <th>word</th>\n",
       "    </tr>\n",
       "  </thead>\n",
       "  <tbody>\n",
       "    <tr>\n",
       "      <th>0</th>\n",
       "      <td>абажур</td>\n",
       "    </tr>\n",
       "    <tr>\n",
       "      <th>1</th>\n",
       "      <td>абажурчик</td>\n",
       "    </tr>\n",
       "    <tr>\n",
       "      <th>2</th>\n",
       "      <td>абазин</td>\n",
       "    </tr>\n",
       "    <tr>\n",
       "      <th>3</th>\n",
       "      <td>абазинец</td>\n",
       "    </tr>\n",
       "    <tr>\n",
       "      <th>4</th>\n",
       "      <td>абазинцы</td>\n",
       "    </tr>\n",
       "    <tr>\n",
       "      <th>5</th>\n",
       "      <td>абазинка</td>\n",
       "    </tr>\n",
       "    <tr>\n",
       "      <th>6</th>\n",
       "      <td>абазия</td>\n",
       "    </tr>\n",
       "    <tr>\n",
       "      <th>7</th>\n",
       "      <td>абандон</td>\n",
       "    </tr>\n",
       "    <tr>\n",
       "      <th>8</th>\n",
       "      <td>аббат</td>\n",
       "    </tr>\n",
       "    <tr>\n",
       "      <th>9</th>\n",
       "      <td>аббатиса</td>\n",
       "    </tr>\n",
       "  </tbody>\n",
       "</table>\n",
       "</div>"
      ],
      "text/plain": [
       "        word\n",
       "0     абажур\n",
       "1  абажурчик\n",
       "2     абазин\n",
       "3   абазинец\n",
       "4   абазинцы\n",
       "5   абазинка\n",
       "6     абазия\n",
       "7    абандон\n",
       "8      аббат\n",
       "9   аббатиса"
      ]
     },
     "execution_count": 8,
     "metadata": {},
     "output_type": "execute_result"
    }
   ],
   "source": [
    "words_frame = pd.DataFrame({'word': words})\n",
    "words_frame.head(10)"
   ]
  },
  {
   "cell_type": "code",
   "execution_count": 9,
   "metadata": {
    "execution": {
     "iopub.execute_input": "2024-02-22T16:43:22.349217Z",
     "iopub.status.busy": "2024-02-22T16:43:22.348716Z",
     "iopub.status.idle": "2024-02-22T16:43:22.404859Z",
     "shell.execute_reply": "2024-02-22T16:43:22.403325Z",
     "shell.execute_reply.started": "2024-02-22T16:43:22.349175Z"
    }
   },
   "outputs": [
    {
     "data": {
      "text/plain": [
       "word    61988\n",
       "dtype: int64"
      ]
     },
     "execution_count": 9,
     "metadata": {},
     "output_type": "execute_result"
    }
   ],
   "source": [
    "words_frame.nunique()"
   ]
  },
  {
   "cell_type": "code",
   "execution_count": 10,
   "metadata": {
    "execution": {
     "iopub.execute_input": "2024-02-22T16:43:24.855161Z",
     "iopub.status.busy": "2024-02-22T16:43:24.854656Z",
     "iopub.status.idle": "2024-02-22T16:43:24.921531Z",
     "shell.execute_reply": "2024-02-22T16:43:24.920211Z",
     "shell.execute_reply.started": "2024-02-22T16:43:24.855120Z"
    }
   },
   "outputs": [],
   "source": [
    "with open(f\"{data_path}/queries.txt\", encoding=\"utf8\") as f:\n",
    "    queries = f.readlines()"
   ]
  },
  {
   "cell_type": "code",
   "execution_count": 11,
   "metadata": {
    "execution": {
     "iopub.execute_input": "2024-02-22T16:43:28.164738Z",
     "iopub.status.busy": "2024-02-22T16:43:28.164369Z",
     "iopub.status.idle": "2024-02-22T16:43:28.198056Z",
     "shell.execute_reply": "2024-02-22T16:43:28.196764Z",
     "shell.execute_reply.started": "2024-02-22T16:43:28.164711Z"
    }
   },
   "outputs": [],
   "source": [
    "queries = [query.rstrip('\\n') for query in queries]"
   ]
  },
  {
   "cell_type": "code",
   "execution_count": 12,
   "metadata": {
    "execution": {
     "iopub.execute_input": "2024-02-22T16:43:30.142791Z",
     "iopub.status.busy": "2024-02-22T16:43:30.141615Z",
     "iopub.status.idle": "2024-02-22T16:43:30.148827Z",
     "shell.execute_reply": "2024-02-22T16:43:30.147660Z",
     "shell.execute_reply.started": "2024-02-22T16:43:30.142753Z"
    }
   },
   "outputs": [
    {
     "data": {
      "text/plain": [
       "100000"
      ]
     },
     "execution_count": 12,
     "metadata": {},
     "output_type": "execute_result"
    }
   ],
   "source": [
    "len(queries)"
   ]
  },
  {
   "cell_type": "code",
   "execution_count": 13,
   "metadata": {
    "execution": {
     "iopub.execute_input": "2024-02-22T16:43:31.726550Z",
     "iopub.status.busy": "2024-02-22T16:43:31.726133Z",
     "iopub.status.idle": "2024-02-22T16:43:31.734616Z",
     "shell.execute_reply": "2024-02-22T16:43:31.733316Z",
     "shell.execute_reply.started": "2024-02-22T16:43:31.726518Z"
    }
   },
   "outputs": [
    {
     "data": {
      "text/plain": [
       "['воспитаннясть',\n",
       " 'неоплатоэивк',\n",
       " 'махаьный',\n",
       " 'втникж',\n",
       " 'эйдетки',\n",
       " 'лепидосьрне',\n",
       " 'эътомолог',\n",
       " 'патуинча',\n",
       " 'утожишоки',\n",
       " 'дружеественнось']"
      ]
     },
     "execution_count": 13,
     "metadata": {},
     "output_type": "execute_result"
    }
   ],
   "source": [
    "queries[:10]"
   ]
  },
  {
   "cell_type": "code",
   "execution_count": 14,
   "metadata": {
    "execution": {
     "iopub.execute_input": "2024-02-22T16:43:35.199247Z",
     "iopub.status.busy": "2024-02-22T16:43:35.198845Z",
     "iopub.status.idle": "2024-02-22T16:43:35.222185Z",
     "shell.execute_reply": "2024-02-22T16:43:35.221048Z",
     "shell.execute_reply.started": "2024-02-22T16:43:35.199217Z"
    }
   },
   "outputs": [
    {
     "data": {
      "text/html": [
       "<div>\n",
       "<style scoped>\n",
       "    .dataframe tbody tr th:only-of-type {\n",
       "        vertical-align: middle;\n",
       "    }\n",
       "\n",
       "    .dataframe tbody tr th {\n",
       "        vertical-align: top;\n",
       "    }\n",
       "\n",
       "    .dataframe thead th {\n",
       "        text-align: right;\n",
       "    }\n",
       "</style>\n",
       "<table border=\"1\" class=\"dataframe\">\n",
       "  <thead>\n",
       "    <tr style=\"text-align: right;\">\n",
       "      <th></th>\n",
       "      <th>word</th>\n",
       "    </tr>\n",
       "  </thead>\n",
       "  <tbody>\n",
       "    <tr>\n",
       "      <th>0</th>\n",
       "      <td>воспитаннясть</td>\n",
       "    </tr>\n",
       "    <tr>\n",
       "      <th>1</th>\n",
       "      <td>неоплатоэивк</td>\n",
       "    </tr>\n",
       "    <tr>\n",
       "      <th>2</th>\n",
       "      <td>махаьный</td>\n",
       "    </tr>\n",
       "    <tr>\n",
       "      <th>3</th>\n",
       "      <td>втникж</td>\n",
       "    </tr>\n",
       "    <tr>\n",
       "      <th>4</th>\n",
       "      <td>эйдетки</td>\n",
       "    </tr>\n",
       "    <tr>\n",
       "      <th>5</th>\n",
       "      <td>лепидосьрне</td>\n",
       "    </tr>\n",
       "    <tr>\n",
       "      <th>6</th>\n",
       "      <td>эътомолог</td>\n",
       "    </tr>\n",
       "    <tr>\n",
       "      <th>7</th>\n",
       "      <td>патуинча</td>\n",
       "    </tr>\n",
       "    <tr>\n",
       "      <th>8</th>\n",
       "      <td>утожишоки</td>\n",
       "    </tr>\n",
       "    <tr>\n",
       "      <th>9</th>\n",
       "      <td>дружеественнось</td>\n",
       "    </tr>\n",
       "  </tbody>\n",
       "</table>\n",
       "</div>"
      ],
      "text/plain": [
       "              word\n",
       "0    воспитаннясть\n",
       "1     неоплатоэивк\n",
       "2         махаьный\n",
       "3           втникж\n",
       "4          эйдетки\n",
       "5      лепидосьрне\n",
       "6        эътомолог\n",
       "7         патуинча\n",
       "8        утожишоки\n",
       "9  дружеественнось"
      ]
     },
     "execution_count": 14,
     "metadata": {},
     "output_type": "execute_result"
    }
   ],
   "source": [
    "queries_frame = pd.DataFrame({'word': queries})\n",
    "queries_frame.head(10)"
   ]
  },
  {
   "cell_type": "code",
   "execution_count": 15,
   "metadata": {
    "execution": {
     "iopub.execute_input": "2024-02-22T16:43:37.927314Z",
     "iopub.status.busy": "2024-02-22T16:43:37.926822Z",
     "iopub.status.idle": "2024-02-22T16:43:37.983462Z",
     "shell.execute_reply": "2024-02-22T16:43:37.982369Z",
     "shell.execute_reply.started": "2024-02-22T16:43:37.927278Z"
    }
   },
   "outputs": [
    {
     "data": {
      "text/plain": [
       "word    98673\n",
       "dtype: int64"
      ]
     },
     "execution_count": 15,
     "metadata": {},
     "output_type": "execute_result"
    }
   ],
   "source": [
    "queries_frame.nunique()"
   ]
  },
  {
   "cell_type": "code",
   "execution_count": 17,
   "metadata": {
    "execution": {
     "iopub.execute_input": "2024-02-22T16:43:41.049849Z",
     "iopub.status.busy": "2024-02-22T16:43:41.049048Z",
     "iopub.status.idle": "2024-02-22T16:43:41.058159Z",
     "shell.execute_reply": "2024-02-22T16:43:41.057083Z",
     "shell.execute_reply.started": "2024-02-22T16:43:41.049816Z"
    }
   },
   "outputs": [],
   "source": [
    "def get_words_at_each_step(word1, word2):\n",
    "    edit_ops = Levenshtein.editops(word1, word2)\n",
    "    history = []\n",
    "    if len(edit_ops) >= 3:\n",
    "        return []\n",
    "    for i in range(1, len(edit_ops) + 1):\n",
    "        step = Levenshtein.apply_edit(edit_ops[:i], word1, word2)\n",
    "        history.append(step)\n",
    "    return history"
   ]
  },
  {
   "cell_type": "code",
   "execution_count": 18,
   "metadata": {
    "execution": {
     "iopub.execute_input": "2024-02-22T16:44:08.182575Z",
     "iopub.status.busy": "2024-02-22T16:44:08.182196Z",
     "iopub.status.idle": "2024-02-22T18:07:04.980441Z",
     "shell.execute_reply": "2024-02-22T18:07:04.979209Z",
     "shell.execute_reply.started": "2024-02-22T16:44:08.182547Z"
    }
   },
   "outputs": [
    {
     "name": "stdout",
     "output_type": "stream",
     "text": [
      "CPU times: user 1h 22min 52s, sys: 713 ms, total: 1h 22min 53s\n",
      "Wall time: 1h 22min 56s\n"
     ]
    }
   ],
   "source": [
    "%%time\n",
    "result = []\n",
    "for query in queries:\n",
    "    if query in words:\n",
    "        result.append({'distance': 0, 'source': query, 'target': query, 'steps': []})\n",
    "        continue\n",
    "    min_distance = float('inf')\n",
    "    min_distance_word = None\n",
    "    for word in words:\n",
    "        distance = Levenshtein.distance(query, word)\n",
    "        if distance < min_distance:\n",
    "            min_distance = distance\n",
    "            min_distance_word = word\n",
    "            if distance == 1:\n",
    "                break\n",
    "    addition = {'distance': min_distance, 'source': query, \n",
    "                'target': min_distance_word, \n",
    "                'steps': get_words_at_each_step(query, min_distance_word)}\n",
    "    result.append(addition)"
   ]
  },
  {
   "cell_type": "code",
   "execution_count": 20,
   "metadata": {
    "execution": {
     "iopub.execute_input": "2024-02-22T18:07:36.478660Z",
     "iopub.status.busy": "2024-02-22T18:07:36.478311Z",
     "iopub.status.idle": "2024-02-22T18:07:36.508946Z",
     "shell.execute_reply": "2024-02-22T18:07:36.507814Z",
     "shell.execute_reply.started": "2024-02-22T18:07:36.478631Z"
    }
   },
   "outputs": [
    {
     "data": {
      "text/plain": [
       "[{'distance': 1,\n",
       "  'source': 'воспитаннясть',\n",
       "  'target': 'воспитанность',\n",
       "  'steps': ['воспитанность']},\n",
       " {'distance': 2,\n",
       "  'source': 'неоплатоэивк',\n",
       "  'target': 'неоплатоник',\n",
       "  'steps': ['неоплатонивк', 'неоплатоник']},\n",
       " {'distance': 1,\n",
       "  'source': 'махаьный',\n",
       "  'target': 'махальный',\n",
       "  'steps': ['махальный']},\n",
       " {'distance': 2,\n",
       "  'source': 'втникж',\n",
       "  'target': 'ватник',\n",
       "  'steps': ['ватникж', 'ватник']},\n",
       " {'distance': 2,\n",
       "  'source': 'эйдетки',\n",
       "  'target': 'эйдетик',\n",
       "  'steps': ['эйдетики', 'эйдетик']},\n",
       " {'distance': 3,\n",
       "  'source': 'лепидосьрне',\n",
       "  'target': 'лепидосирен',\n",
       "  'steps': []},\n",
       " {'distance': 1,\n",
       "  'source': 'эътомолог',\n",
       "  'target': 'энтомолог',\n",
       "  'steps': ['энтомолог']},\n",
       " {'distance': 2,\n",
       "  'source': 'патуинча',\n",
       "  'target': 'патина',\n",
       "  'steps': ['патинча', 'патина']},\n",
       " {'distance': 4, 'source': 'утожишоки', 'target': 'дожинки', 'steps': []},\n",
       " {'distance': 2,\n",
       "  'source': 'дружеественнось',\n",
       "  'target': 'дружественность',\n",
       "  'steps': ['дружественнось', 'дружественность']},\n",
       " {'distance': 2,\n",
       "  'source': 'ьньилот',\n",
       "  'target': 'нилот',\n",
       "  'steps': ['ньилот', 'нилот']},\n",
       " {'distance': 2,\n",
       "  'source': 'оитехник',\n",
       "  'target': 'зоотехник',\n",
       "  'steps': ['зоитехник', 'зоотехник']},\n",
       " {'distance': 0, 'source': 'абхазка', 'target': 'абхазка', 'steps': []},\n",
       " {'distance': 2,\n",
       "  'source': 'рейлвьеф',\n",
       "  'target': 'рельеф',\n",
       "  'steps': ['релвьеф', 'рельеф']},\n",
       " {'distance': 0,\n",
       "  'source': 'примышление',\n",
       "  'target': 'примышление',\n",
       "  'steps': []},\n",
       " {'distance': 2,\n",
       "  'source': 'долгоетрпение',\n",
       "  'target': 'долготерпение',\n",
       "  'steps': ['долготетрпение', 'долготерпение']},\n",
       " {'distance': 1,\n",
       "  'source': 'рненападение',\n",
       "  'target': 'ненападение',\n",
       "  'steps': ['ненападение']},\n",
       " {'distance': 1,\n",
       "  'source': 'юлилипутка',\n",
       "  'target': 'лилипутка',\n",
       "  'steps': ['лилипутка']},\n",
       " {'distance': 2,\n",
       "  'source': 'иответчиа',\n",
       "  'target': 'ответчик',\n",
       "  'steps': ['ответчиа', 'ответчик']},\n",
       " {'distance': 5,\n",
       "  'source': 'яфетуодлгиоя',\n",
       "  'target': 'яфетидология',\n",
       "  'steps': []},\n",
       " {'distance': 0,\n",
       "  'source': 'портативность',\n",
       "  'target': 'портативность',\n",
       "  'steps': []},\n",
       " {'distance': 2,\n",
       "  'source': 'тбаор',\n",
       "  'target': 'багор',\n",
       "  'steps': ['баор', 'багор']},\n",
       " {'distance': 1,\n",
       "  'source': 'судовдение',\n",
       "  'target': 'судоведение',\n",
       "  'steps': ['судоведение']},\n",
       " {'distance': 1,\n",
       "  'source': 'рчозанец',\n",
       "  'target': 'розанец',\n",
       "  'steps': ['розанец']},\n",
       " {'distance': 1,\n",
       "  'source': 'пкаромщица',\n",
       "  'target': 'паромщица',\n",
       "  'steps': ['паромщица']},\n",
       " {'distance': 3, 'source': 'рдацыена', 'target': 'драцена', 'steps': []},\n",
       " {'distance': 2,\n",
       "  'source': 'полсотлька',\n",
       "  'target': 'полстолька',\n",
       "  'steps': ['полстотлька', 'полстолька']},\n",
       " {'distance': 4, 'source': 'ппетизаиця', 'target': 'метизация', 'steps': []},\n",
       " {'distance': 1,\n",
       "  'source': 'вскрикиваниа',\n",
       "  'target': 'вскрикивание',\n",
       "  'steps': ['вскрикивание']},\n",
       " {'distance': 3,\n",
       "  'source': 'акугзпунктуа',\n",
       "  'target': 'акупунктура',\n",
       "  'steps': []},\n",
       " {'distance': 2,\n",
       "  'source': 'кисхлощик',\n",
       "  'target': 'кисловщик',\n",
       "  'steps': ['кислощик', 'кисловщик']},\n",
       " {'distance': 1,\n",
       "  'source': 'пузанвик',\n",
       "  'target': 'пузанчик',\n",
       "  'steps': ['пузанчик']},\n",
       " {'distance': 1,\n",
       "  'source': 'вневейсковик',\n",
       "  'target': 'вневойсковик',\n",
       "  'steps': ['вневойсковик']},\n",
       " {'distance': 2,\n",
       "  'source': 'радлуа',\n",
       "  'target': 'раджа',\n",
       "  'steps': ['раджуа', 'раджа']},\n",
       " {'distance': 1, 'source': 'кломчья', 'target': 'клочья', 'steps': ['клочья']},\n",
       " {'distance': 3,\n",
       "  'source': 'сиволпаостьм',\n",
       "  'target': 'сиволапость',\n",
       "  'steps': []},\n",
       " {'distance': 1,\n",
       "  'source': 'нлейцовка',\n",
       "  'target': 'флейцовка',\n",
       "  'steps': ['флейцовка']},\n",
       " {'distance': 1,\n",
       "  'source': 'велосиметт',\n",
       "  'target': 'велосиметр',\n",
       "  'steps': ['велосиметр']},\n",
       " {'distance': 0, 'source': 'крокировка', 'target': 'крокировка', 'steps': []},\n",
       " {'distance': 1, 'source': 'пйщик', 'target': 'пайщик', 'steps': ['пайщик']},\n",
       " {'distance': 1,\n",
       "  'source': 'выдтывание',\n",
       "  'target': 'выстывание',\n",
       "  'steps': ['выстывание']},\n",
       " {'distance': 1,\n",
       "  'source': 'трепыпанье',\n",
       "  'target': 'трепыханье',\n",
       "  'steps': ['трепыханье']},\n",
       " {'distance': 0,\n",
       "  'source': 'распространительница',\n",
       "  'target': 'распространительница',\n",
       "  'steps': []},\n",
       " {'distance': 1,\n",
       "  'source': 'балерин',\n",
       "  'target': 'балерина',\n",
       "  'steps': ['балерина']},\n",
       " {'distance': 1,\n",
       "  'source': 'пиразн',\n",
       "  'target': 'пиразин',\n",
       "  'steps': ['пиразин']},\n",
       " {'distance': 2,\n",
       "  'source': 'подмеолщик',\n",
       "  'target': 'подменщик',\n",
       "  'steps': ['подменлщик', 'подменщик']},\n",
       " {'distance': 0,\n",
       "  'source': 'титанотерий',\n",
       "  'target': 'титанотерий',\n",
       "  'steps': []},\n",
       " {'distance': 2,\n",
       "  'source': 'принорква',\n",
       "  'target': 'приборка',\n",
       "  'steps': ['приборква', 'приборка']},\n",
       " {'distance': 2,\n",
       "  'source': 'поггалстгучник',\n",
       "  'target': 'подгалстучник',\n",
       "  'steps': ['подгалстгучник', 'подгалстучник']},\n",
       " {'distance': 0, 'source': 'тиски', 'target': 'тиски', 'steps': []},\n",
       " {'distance': 0, 'source': 'остылость', 'target': 'остылость', 'steps': []},\n",
       " {'distance': 2,\n",
       "  'source': 'пвоерхность',\n",
       "  'target': 'поверхность',\n",
       "  'steps': ['повоерхность', 'поверхность']},\n",
       " {'distance': 3,\n",
       "  'source': 'экстерореецпциь',\n",
       "  'target': 'экстерорецепция',\n",
       "  'steps': []},\n",
       " {'distance': 2,\n",
       "  'source': 'епнелопа',\n",
       "  'target': 'пенелопа',\n",
       "  'steps': ['пепнелопа', 'пенелопа']},\n",
       " {'distance': 2,\n",
       "  'source': 'домопрпвлени',\n",
       "  'target': 'домоправление',\n",
       "  'steps': ['домоправлени', 'домоправление']},\n",
       " {'distance': 2,\n",
       "  'source': 'малоэффктивностяь',\n",
       "  'target': 'малоэффективность',\n",
       "  'steps': ['малоэффективностяь', 'малоэффективность']},\n",
       " {'distance': 1,\n",
       "  'source': 'акселератжр',\n",
       "  'target': 'акселератор',\n",
       "  'steps': ['акселератор']},\n",
       " {'distance': 1,\n",
       "  'source': 'иотокорреспондент',\n",
       "  'target': 'фотокорреспондент',\n",
       "  'steps': ['фотокорреспондент']},\n",
       " {'distance': 1,\n",
       "  'source': 'опаданще',\n",
       "  'target': 'опадание',\n",
       "  'steps': ['опадание']},\n",
       " {'distance': 3,\n",
       "  'source': 'терюобатиргаф',\n",
       "  'target': 'термобатиграф',\n",
       "  'steps': []},\n",
       " {'distance': 1,\n",
       "  'source': 'иповедание',\n",
       "  'target': 'исповедание',\n",
       "  'steps': ['исповедание']},\n",
       " {'distance': 1,\n",
       "  'source': 'гидротанция',\n",
       "  'target': 'гидростанция',\n",
       "  'steps': ['гидростанция']},\n",
       " {'distance': 1, 'source': 'прлит', 'target': 'пелит', 'steps': ['пелит']},\n",
       " {'distance': 0, 'source': 'турбина', 'target': 'турбина', 'steps': []},\n",
       " {'distance': 1, 'source': 'таолина', 'target': 'талина', 'steps': ['талина']},\n",
       " {'distance': 3, 'source': 'пфотйтоптер', 'target': 'протоптер', 'steps': []},\n",
       " {'distance': 0, 'source': 'вторжение', 'target': 'вторжение', 'steps': []},\n",
       " {'distance': 1,\n",
       "  'source': 'надостоверность',\n",
       "  'target': 'недостоверность',\n",
       "  'steps': ['недостоверность']},\n",
       " {'distance': 0, 'source': 'семга', 'target': 'семга', 'steps': []},\n",
       " {'distance': 1,\n",
       "  'source': 'аромаизация',\n",
       "  'target': 'ароматизация',\n",
       "  'steps': ['ароматизация']},\n",
       " {'distance': 0, 'source': 'натаивание', 'target': 'натаивание', 'steps': []},\n",
       " {'distance': 0, 'source': 'скрипачка', 'target': 'скрипачка', 'steps': []},\n",
       " {'distance': 0, 'source': 'сланцы', 'target': 'сланцы', 'steps': []},\n",
       " {'distance': 1,\n",
       "  'source': 'яйцеобразоватие',\n",
       "  'target': 'яйцеобразование',\n",
       "  'steps': ['яйцеобразование']},\n",
       " {'distance': 1,\n",
       "  'source': 'хлоречие',\n",
       "  'target': 'злоречие',\n",
       "  'steps': ['злоречие']},\n",
       " {'distance': 0,\n",
       "  'source': 'постукивание',\n",
       "  'target': 'постукивание',\n",
       "  'steps': []},\n",
       " {'distance': 2,\n",
       "  'source': 'тбеливанйие',\n",
       "  'target': 'обеливание',\n",
       "  'steps': ['обеливанйие', 'обеливание']},\n",
       " {'distance': 1,\n",
       "  'source': 'аквамараин',\n",
       "  'target': 'аквамарин',\n",
       "  'steps': ['аквамарин']},\n",
       " {'distance': 0, 'source': 'тартюфство', 'target': 'тартюфство', 'steps': []},\n",
       " {'distance': 1, 'source': 'тузово', 'target': 'тулово', 'steps': ['тулово']},\n",
       " {'distance': 1,\n",
       "  'source': 'бахсарма',\n",
       "  'target': 'бахтарма',\n",
       "  'steps': ['бахтарма']},\n",
       " {'distance': 1,\n",
       "  'source': 'олигощолия',\n",
       "  'target': 'олигополия',\n",
       "  'steps': ['олигополия']},\n",
       " {'distance': 2,\n",
       "  'source': 'дегежнтк',\n",
       "  'target': 'денежник',\n",
       "  'steps': ['денежнтк', 'денежник']},\n",
       " {'distance': 1,\n",
       "  'source': 'откручивангие',\n",
       "  'target': 'откручивание',\n",
       "  'steps': ['откручивание']},\n",
       " {'distance': 1,\n",
       "  'source': 'пропедевтщика',\n",
       "  'target': 'пропедевтика',\n",
       "  'steps': ['пропедевтика']},\n",
       " {'distance': 1,\n",
       "  'source': 'эндамия',\n",
       "  'target': 'эндемия',\n",
       "  'steps': ['эндемия']},\n",
       " {'distance': 1,\n",
       "  'source': 'барарисовые',\n",
       "  'target': 'барбарисовые',\n",
       "  'steps': ['барбарисовые']},\n",
       " {'distance': 2,\n",
       "  'source': 'юпивал',\n",
       "  'target': 'опивала',\n",
       "  'steps': ['опивал', 'опивала']},\n",
       " {'distance': 2,\n",
       "  'source': 'просвриа',\n",
       "  'target': 'просвира',\n",
       "  'steps': ['просвириа', 'просвира']},\n",
       " {'distance': 0, 'source': 'самоучка', 'target': 'самоучка', 'steps': []},\n",
       " {'distance': 1,\n",
       "  'source': 'матереубиийца',\n",
       "  'target': 'матереубийца',\n",
       "  'steps': ['матереубийца']},\n",
       " {'distance': 1, 'source': 'пулть', 'target': 'полть', 'steps': ['полть']},\n",
       " {'distance': 6,\n",
       "  'source': 'бакецлеръцяи',\n",
       "  'target': 'акселерация',\n",
       "  'steps': []},\n",
       " {'distance': 1,\n",
       "  'source': 'культуруст',\n",
       "  'target': 'культурист',\n",
       "  'steps': ['культурист']},\n",
       " {'distance': 2,\n",
       "  'source': 'плмемннница',\n",
       "  'target': 'племянница',\n",
       "  'steps': ['племннница', 'племянница']},\n",
       " {'distance': 3, 'source': 'исвинккт', 'target': 'инстинкт', 'steps': []},\n",
       " {'distance': 1,\n",
       "  'source': 'безнадкжность',\n",
       "  'target': 'безнадежность',\n",
       "  'steps': ['безнадежность']},\n",
       " {'distance': 2,\n",
       "  'source': 'гвоздоцдр',\n",
       "  'target': 'гвоздодер',\n",
       "  'steps': ['гвоздоддр', 'гвоздодер']},\n",
       " {'distance': 3,\n",
       "  'source': 'ксовыривхание',\n",
       "  'target': 'исковыривание',\n",
       "  'steps': []},\n",
       " {'distance': 1,\n",
       "  'source': 'сасврач',\n",
       "  'target': 'санврач',\n",
       "  'steps': ['санврач']}]"
      ]
     },
     "execution_count": 20,
     "metadata": {},
     "output_type": "execute_result"
    }
   ],
   "source": [
    "result[:100]"
   ]
  },
  {
   "cell_type": "code",
   "execution_count": 21,
   "metadata": {
    "execution": {
     "iopub.execute_input": "2024-02-22T18:18:29.200092Z",
     "iopub.status.busy": "2024-02-22T18:18:29.199652Z",
     "iopub.status.idle": "2024-02-22T18:18:29.207418Z",
     "shell.execute_reply": "2024-02-22T18:18:29.205987Z",
     "shell.execute_reply.started": "2024-02-22T18:18:29.200057Z"
    }
   },
   "outputs": [
    {
     "data": {
      "text/plain": [
       "100000"
      ]
     },
     "execution_count": 21,
     "metadata": {},
     "output_type": "execute_result"
    }
   ],
   "source": [
    "len(result)"
   ]
  },
  {
   "cell_type": "code",
   "execution_count": 32,
   "metadata": {
    "execution": {
     "iopub.execute_input": "2024-02-22T18:28:52.251731Z",
     "iopub.status.busy": "2024-02-22T18:28:52.251339Z",
     "iopub.status.idle": "2024-02-22T18:28:52.257231Z",
     "shell.execute_reply": "2024-02-22T18:28:52.256071Z",
     "shell.execute_reply.started": "2024-02-22T18:28:52.251701Z"
    }
   },
   "outputs": [],
   "source": [
    "strings = []"
   ]
  },
  {
   "cell_type": "code",
   "execution_count": 33,
   "metadata": {
    "execution": {
     "iopub.execute_input": "2024-02-22T18:28:55.827856Z",
     "iopub.status.busy": "2024-02-22T18:28:55.827237Z",
     "iopub.status.idle": "2024-02-22T18:28:55.980456Z",
     "shell.execute_reply": "2024-02-22T18:28:55.979337Z",
     "shell.execute_reply.started": "2024-02-22T18:28:55.827698Z"
    }
   },
   "outputs": [],
   "source": [
    "for record in result:\n",
    "    if record['distance'] >= 3:\n",
    "        appendix = \"3+\"\n",
    "    elif record['distance'] == 0:\n",
    "        appendix = \"0\"\n",
    "    else:\n",
    "        steps_part = \" \".join(record['steps'])\n",
    "        appendix = f\"{record['distance']} {steps_part}\"\n",
    "    strings.append(f\"{record['source']} {appendix}\")"
   ]
  },
  {
   "cell_type": "code",
   "execution_count": 34,
   "metadata": {
    "execution": {
     "iopub.execute_input": "2024-02-22T18:28:58.147705Z",
     "iopub.status.busy": "2024-02-22T18:28:58.147306Z",
     "iopub.status.idle": "2024-02-22T18:28:58.155190Z",
     "shell.execute_reply": "2024-02-22T18:28:58.153981Z",
     "shell.execute_reply.started": "2024-02-22T18:28:58.147674Z"
    }
   },
   "outputs": [
    {
     "data": {
      "text/plain": [
       "100000"
      ]
     },
     "execution_count": 34,
     "metadata": {},
     "output_type": "execute_result"
    }
   ],
   "source": [
    "len(strings)"
   ]
  },
  {
   "cell_type": "code",
   "execution_count": 35,
   "metadata": {
    "execution": {
     "iopub.execute_input": "2024-02-22T18:29:00.933387Z",
     "iopub.status.busy": "2024-02-22T18:29:00.932749Z",
     "iopub.status.idle": "2024-02-22T18:29:00.942987Z",
     "shell.execute_reply": "2024-02-22T18:29:00.941824Z",
     "shell.execute_reply.started": "2024-02-22T18:29:00.933350Z"
    }
   },
   "outputs": [
    {
     "data": {
      "text/plain": [
       "['воспитаннясть 1 воспитанность',\n",
       " 'неоплатоэивк 2 неоплатонивк неоплатоник',\n",
       " 'махаьный 1 махальный',\n",
       " 'втникж 2 ватникж ватник',\n",
       " 'эйдетки 2 эйдетики эйдетик',\n",
       " 'лепидосьрне 3+',\n",
       " 'эътомолог 1 энтомолог',\n",
       " 'патуинча 2 патинча патина',\n",
       " 'утожишоки 3+',\n",
       " 'дружеественнось 2 дружественнось дружественность',\n",
       " 'ьньилот 2 ньилот нилот',\n",
       " 'оитехник 2 зоитехник зоотехник',\n",
       " 'абхазка 0',\n",
       " 'рейлвьеф 2 релвьеф рельеф',\n",
       " 'примышление 0',\n",
       " 'долгоетрпение 2 долготетрпение долготерпение',\n",
       " 'рненападение 1 ненападение',\n",
       " 'юлилипутка 1 лилипутка',\n",
       " 'иответчиа 2 ответчиа ответчик',\n",
       " 'яфетуодлгиоя 3+',\n",
       " 'портативность 0',\n",
       " 'тбаор 2 баор багор',\n",
       " 'судовдение 1 судоведение',\n",
       " 'рчозанец 1 розанец',\n",
       " 'пкаромщица 1 паромщица',\n",
       " 'рдацыена 3+',\n",
       " 'полсотлька 2 полстотлька полстолька',\n",
       " 'ппетизаиця 3+',\n",
       " 'вскрикиваниа 1 вскрикивание',\n",
       " 'акугзпунктуа 3+',\n",
       " 'кисхлощик 2 кислощик кисловщик',\n",
       " 'пузанвик 1 пузанчик',\n",
       " 'вневейсковик 1 вневойсковик',\n",
       " 'радлуа 2 раджуа раджа',\n",
       " 'кломчья 1 клочья',\n",
       " 'сиволпаостьм 3+',\n",
       " 'нлейцовка 1 флейцовка',\n",
       " 'велосиметт 1 велосиметр',\n",
       " 'крокировка 0',\n",
       " 'пйщик 1 пайщик',\n",
       " 'выдтывание 1 выстывание',\n",
       " 'трепыпанье 1 трепыханье',\n",
       " 'распространительница 0',\n",
       " 'балерин 1 балерина',\n",
       " 'пиразн 1 пиразин',\n",
       " 'подмеолщик 2 подменлщик подменщик',\n",
       " 'титанотерий 0',\n",
       " 'принорква 2 приборква приборка',\n",
       " 'поггалстгучник 2 подгалстгучник подгалстучник',\n",
       " 'тиски 0',\n",
       " 'остылость 0',\n",
       " 'пвоерхность 2 повоерхность поверхность',\n",
       " 'экстерореецпциь 3+',\n",
       " 'епнелопа 2 пепнелопа пенелопа',\n",
       " 'домопрпвлени 2 домоправлени домоправление',\n",
       " 'малоэффктивностяь 2 малоэффективностяь малоэффективность',\n",
       " 'акселератжр 1 акселератор',\n",
       " 'иотокорреспондент 1 фотокорреспондент',\n",
       " 'опаданще 1 опадание',\n",
       " 'терюобатиргаф 3+',\n",
       " 'иповедание 1 исповедание',\n",
       " 'гидротанция 1 гидростанция',\n",
       " 'прлит 1 пелит',\n",
       " 'турбина 0',\n",
       " 'таолина 1 талина',\n",
       " 'пфотйтоптер 3+',\n",
       " 'вторжение 0',\n",
       " 'надостоверность 1 недостоверность',\n",
       " 'семга 0',\n",
       " 'аромаизация 1 ароматизация',\n",
       " 'натаивание 0',\n",
       " 'скрипачка 0',\n",
       " 'сланцы 0',\n",
       " 'яйцеобразоватие 1 яйцеобразование',\n",
       " 'хлоречие 1 злоречие',\n",
       " 'постукивание 0',\n",
       " 'тбеливанйие 2 обеливанйие обеливание',\n",
       " 'аквамараин 1 аквамарин',\n",
       " 'тартюфство 0',\n",
       " 'тузово 1 тулово',\n",
       " 'бахсарма 1 бахтарма',\n",
       " 'олигощолия 1 олигополия',\n",
       " 'дегежнтк 2 денежнтк денежник',\n",
       " 'откручивангие 1 откручивание',\n",
       " 'пропедевтщика 1 пропедевтика',\n",
       " 'эндамия 1 эндемия',\n",
       " 'барарисовые 1 барбарисовые',\n",
       " 'юпивал 2 опивал опивала',\n",
       " 'просвриа 2 просвириа просвира',\n",
       " 'самоучка 0',\n",
       " 'матереубиийца 1 матереубийца',\n",
       " 'пулть 1 полть',\n",
       " 'бакецлеръцяи 3+',\n",
       " 'культуруст 1 культурист',\n",
       " 'плмемннница 2 племннница племянница',\n",
       " 'исвинккт 3+',\n",
       " 'безнадкжность 1 безнадежность',\n",
       " 'гвоздоцдр 2 гвоздоддр гвоздодер',\n",
       " 'ксовыривхание 3+',\n",
       " 'сасврач 1 санврач']"
      ]
     },
     "execution_count": 35,
     "metadata": {},
     "output_type": "execute_result"
    }
   ],
   "source": [
    "strings[:100]"
   ]
  },
  {
   "cell_type": "code",
   "execution_count": 36,
   "metadata": {
    "execution": {
     "iopub.execute_input": "2024-02-22T18:30:17.859529Z",
     "iopub.status.busy": "2024-02-22T18:30:17.859088Z",
     "iopub.status.idle": "2024-02-22T18:30:17.917728Z",
     "shell.execute_reply": "2024-02-22T18:30:17.916743Z",
     "shell.execute_reply.started": "2024-02-22T18:30:17.859496Z"
    }
   },
   "outputs": [],
   "source": [
    "output = open('first_answers.txt', 'w')\n",
    "for r in strings:\n",
    "    output.write(r + '\\n')\n",
    "\n",
    "output.close()"
   ]
  },
  {
   "attachments": {
    "0715ffec-0731-493a-b99e-b699244bc03f.png": {
     "image/png": "[encoded data removed]"
    }
   },
   "cell_type": "markdown",
   "metadata": {},
   "source": [
    "**Result:**\n",
    "\n",
    "![image.png](attachment:0715ffec-0731-493a-b99e-b699244bc03f.png)"
   ]
  }
 ],
 "metadata": {
  "kaggle": {
   "accelerator": "none",
   "dataSources": [
    {
     "datasetId": 4480094,
     "sourceId": 7679294,
     "sourceType": "datasetVersion"
    }
   ],
   "dockerImageVersionId": 30646,
   "isGpuEnabled": false,
   "isInternetEnabled": true,
   "language": "python",
   "sourceType": "notebook"
  },
  "kernelspec": {
   "display_name": "Python 3 (ipykernel)",
   "language": "python",
   "name": "python3"
  },
  "language_info": {
   "codemirror_mode": {
    "name": "ipython",
    "version": 3
   },
   "file_extension": ".py",
   "mimetype": "text/x-python",
   "name": "python",
   "nbconvert_exporter": "python",
   "pygments_lexer": "ipython3",
   "version": "3.11.4"
  }
 },
 "nbformat": 4,
 "nbformat_minor": 4
}
